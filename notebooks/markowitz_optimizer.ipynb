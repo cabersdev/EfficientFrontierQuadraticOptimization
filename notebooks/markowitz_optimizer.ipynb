{
 "cells": [
  {
   "cell_type": "code",
   "execution_count": 7,
   "metadata": {},
   "outputs": [
    {
     "ename": "ModuleNotFoundError",
     "evalue": "No module named 'src'",
     "output_type": "error",
     "traceback": [
      "\u001b[31m---------------------------------------------------------------------------\u001b[39m",
      "\u001b[31mModuleNotFoundError\u001b[39m                       Traceback (most recent call last)",
      "\u001b[36mCell\u001b[39m\u001b[36m \u001b[39m\u001b[32mIn[7]\u001b[39m\u001b[32m, line 7\u001b[39m\n\u001b[32m      4\u001b[39m \u001b[38;5;66;03m# Aggiungi il percorso corretto al modulo src\u001b[39;00m\n\u001b[32m      5\u001b[39m sys.path.append(\u001b[38;5;28mstr\u001b[39m(Path.cwd().parent / \u001b[33m'\u001b[39m\u001b[33msrc\u001b[39m\u001b[33m'\u001b[39m))\n\u001b[32m----> \u001b[39m\u001b[32m7\u001b[39m \u001b[38;5;28;01mfrom\u001b[39;00m\u001b[38;5;250m \u001b[39m\u001b[34;01mmodel\u001b[39;00m\u001b[34;01m.\u001b[39;00m\u001b[34;01mefficient_frontier\u001b[39;00m\u001b[34;01m.\u001b[39;00m\u001b[34;01mmarkowitz_optimizer\u001b[39;00m\u001b[38;5;250m \u001b[39m\u001b[38;5;28;01mimport\u001b[39;00m MarkowitzOptimizer\n\u001b[32m      8\u001b[39m \u001b[38;5;28;01mfrom\u001b[39;00m\u001b[38;5;250m \u001b[39m\u001b[34;01mmodel\u001b[39;00m\u001b[34;01m.\u001b[39;00m\u001b[34;01mpostprocessing\u001b[39;00m\u001b[34;01m.\u001b[39;00m\u001b[34;01mvisualizer\u001b[39;00m\u001b[38;5;250m \u001b[39m\u001b[38;5;28;01mimport\u001b[39;00m Visualizer\n",
      "\u001b[36mFile \u001b[39m\u001b[32m~/Projects/EfficientFrontier/src/model/efficient_frontier/markowitz_optimizer.py:8\u001b[39m\n\u001b[32m      6\u001b[39m \u001b[38;5;28;01mfrom\u001b[39;00m\u001b[38;5;250m \u001b[39m\u001b[34;01msklearn\u001b[39;00m\u001b[34;01m.\u001b[39;00m\u001b[34;01mcovariance\u001b[39;00m\u001b[38;5;250m \u001b[39m\u001b[38;5;28;01mimport\u001b[39;00m LedoitWolf\n\u001b[32m      7\u001b[39m \u001b[38;5;28;01mfrom\u001b[39;00m\u001b[38;5;250m \u001b[39m\u001b[34;01mscipy\u001b[39;00m\u001b[34;01m.\u001b[39;00m\u001b[34;01moptimize\u001b[39;00m\u001b[38;5;250m \u001b[39m\u001b[38;5;28;01mimport\u001b[39;00m minimize\n\u001b[32m----> \u001b[39m\u001b[32m8\u001b[39m \u001b[38;5;28;01mfrom\u001b[39;00m\u001b[38;5;250m \u001b[39m\u001b[34;01msrc\u001b[39;00m\u001b[34;01m.\u001b[39;00m\u001b[34;01mutils\u001b[39;00m\u001b[34;01m.\u001b[39;00m\u001b[34;01mhelpers\u001b[39;00m\u001b[38;5;250m \u001b[39m\u001b[38;5;28;01mimport\u001b[39;00m load_config\n\u001b[32m      9\u001b[39m \u001b[38;5;28;01mfrom\u001b[39;00m\u001b[38;5;250m \u001b[39m\u001b[34;01msrc\u001b[39;00m\u001b[34;01m.\u001b[39;00m\u001b[34;01mutils\u001b[39;00m\u001b[34;01m.\u001b[39;00m\u001b[34;01mlogger\u001b[39;00m\u001b[38;5;250m \u001b[39m\u001b[38;5;28;01mimport\u001b[39;00m setup_logger\n\u001b[32m     11\u001b[39m logger = setup_logger(name=\u001b[34m__name__\u001b[39m)\n",
      "\u001b[31mModuleNotFoundError\u001b[39m: No module named 'src'"
     ]
    }
   ],
   "source": [
    "import sys\n",
    "from pathlib import Path\n",
    "\n",
    "# Aggiungi il percorso corretto al modulo src\n",
    "sys.path.append(str(Path.cwd().parent / 'src'))\n",
    "\n",
    "from model.efficient_frontier.markowitz_optimizer import MarkowitzOptimizer\n",
    "from model.postprocessing.visualizer import Visualizer\n"
   ]
  },
  {
   "cell_type": "code",
   "execution_count": 2,
   "metadata": {},
   "outputs": [],
   "source": [
    "# Configurazione perscorsi\n",
    "#DATA_PATH = Path('../data/processed/returns.csv')\n",
    "DATA_PATH = Path('../data/raw')\n",
    "OUTPUT_PATH = Path('../results')\n",
    "OUTPUT_PATH.mkdir(exist_ok=True)"
   ]
  },
  {
   "cell_type": "code",
   "execution_count": 3,
   "metadata": {},
   "outputs": [
    {
     "data": {
      "text/html": [
       "<div>\n",
       "<style scoped>\n",
       "    .dataframe tbody tr th:only-of-type {\n",
       "        vertical-align: middle;\n",
       "    }\n",
       "\n",
       "    .dataframe tbody tr th {\n",
       "        vertical-align: top;\n",
       "    }\n",
       "\n",
       "    .dataframe thead th {\n",
       "        text-align: right;\n",
       "    }\n",
       "</style>\n",
       "<table border=\"1\" class=\"dataframe\">\n",
       "  <thead>\n",
       "    <tr style=\"text-align: right;\">\n",
       "      <th></th>\n",
       "      <th>AAPL</th>\n",
       "      <th>GOOGL</th>\n",
       "      <th>MSFT</th>\n",
       "    </tr>\n",
       "    <tr>\n",
       "      <th>Date</th>\n",
       "      <th></th>\n",
       "      <th></th>\n",
       "      <th></th>\n",
       "    </tr>\n",
       "  </thead>\n",
       "  <tbody>\n",
       "    <tr>\n",
       "      <th>2020-01-02</th>\n",
       "      <td>72.716064</td>\n",
       "      <td>68.108376</td>\n",
       "      <td>153.323288</td>\n",
       "    </tr>\n",
       "    <tr>\n",
       "      <th>2020-01-03</th>\n",
       "      <td>72.009125</td>\n",
       "      <td>67.752075</td>\n",
       "      <td>151.414093</td>\n",
       "    </tr>\n",
       "    <tr>\n",
       "      <th>2020-01-06</th>\n",
       "      <td>72.582916</td>\n",
       "      <td>69.557945</td>\n",
       "      <td>151.805496</td>\n",
       "    </tr>\n",
       "    <tr>\n",
       "      <th>2020-01-07</th>\n",
       "      <td>72.241547</td>\n",
       "      <td>69.423592</td>\n",
       "      <td>150.421371</td>\n",
       "    </tr>\n",
       "    <tr>\n",
       "      <th>2020-01-08</th>\n",
       "      <td>73.403648</td>\n",
       "      <td>69.917725</td>\n",
       "      <td>152.817322</td>\n",
       "    </tr>\n",
       "    <tr>\n",
       "      <th>2020-01-09</th>\n",
       "      <td>74.962791</td>\n",
       "      <td>70.651718</td>\n",
       "      <td>154.726501</td>\n",
       "    </tr>\n",
       "    <tr>\n",
       "      <th>2020-01-10</th>\n",
       "      <td>75.132271</td>\n",
       "      <td>71.108025</td>\n",
       "      <td>154.010559</td>\n",
       "    </tr>\n",
       "    <tr>\n",
       "      <th>2020-01-13</th>\n",
       "      <td>76.737419</td>\n",
       "      <td>71.658897</td>\n",
       "      <td>155.862427</td>\n",
       "    </tr>\n",
       "    <tr>\n",
       "      <th>2020-01-14</th>\n",
       "      <td>75.701218</td>\n",
       "      <td>71.189148</td>\n",
       "      <td>154.764709</td>\n",
       "    </tr>\n",
       "    <tr>\n",
       "      <th>2020-01-15</th>\n",
       "      <td>75.376785</td>\n",
       "      <td>71.617607</td>\n",
       "      <td>155.766968</td>\n",
       "    </tr>\n",
       "  </tbody>\n",
       "</table>\n",
       "</div>"
      ],
      "text/plain": [
       "                 AAPL      GOOGL        MSFT\n",
       "Date                                        \n",
       "2020-01-02  72.716064  68.108376  153.323288\n",
       "2020-01-03  72.009125  67.752075  151.414093\n",
       "2020-01-06  72.582916  69.557945  151.805496\n",
       "2020-01-07  72.241547  69.423592  150.421371\n",
       "2020-01-08  73.403648  69.917725  152.817322\n",
       "2020-01-09  74.962791  70.651718  154.726501\n",
       "2020-01-10  75.132271  71.108025  154.010559\n",
       "2020-01-13  76.737419  71.658897  155.862427\n",
       "2020-01-14  75.701218  71.189148  154.764709\n",
       "2020-01-15  75.376785  71.617607  155.766968"
      ]
     },
     "execution_count": 3,
     "metadata": {},
     "output_type": "execute_result"
    }
   ],
   "source": [
    "def load_and_preprocess_data(data_path: Path) -> pd.DataFrame:\n",
    "    \"\"\"Carica e prepara i dati storici\"\"\"\n",
    "    stocks = ['AAPL', 'GOOGL', 'MSFT']\n",
    "    \n",
    "    # Leggi e combina i CSV\n",
    "    dfs = []\n",
    "    for ticker in stocks:\n",
    "        df = pd.read_csv(\n",
    "            data_path / f\"{ticker}.csv\",\n",
    "            parse_dates=['Date'],\n",
    "            usecols=['Date', 'Close'],\n",
    "            index_col='Date'\n",
    "        )\n",
    "        df.columns = [ticker]\n",
    "        dfs.append(df)\n",
    "    \n",
    "    combined = pd.concat(dfs, axis=1)\n",
    "    return combined.ffill().dropna()\n",
    "\n",
    "prices = load_and_preprocess_data(DATA_PATH)\n",
    "prices.head(10)"
   ]
  },
  {
   "cell_type": "code",
   "execution_count": 4,
   "metadata": {},
   "outputs": [
    {
     "data": {
      "text/plain": [
       "Text(0.5, 1.0, 'Distribuzione dei rendimenti')"
      ]
     },
     "execution_count": 4,
     "metadata": {},
     "output_type": "execute_result"
    },
    {
     "data": {
      "image/png": "[encoded data removed]",
      "text/plain": [
       "<Figure size 1000x400 with 1 Axes>"
      ]
     },
     "metadata": {},
     "output_type": "display_data"
    }
   ],
   "source": [
    "returns = np.log(prices / prices.shift(1)).dropna()\n",
    "returns.plot(kind='kde', figsize=(10, 4))\n",
    "plt.title('Distribuzione dei rendimenti')"
   ]
  },
  {
   "cell_type": "code",
   "execution_count": 5,
   "metadata": {},
   "outputs": [
    {
     "ename": "NameError",
     "evalue": "name 'MarkowitzOptimizer' is not defined",
     "output_type": "error",
     "traceback": [
      "\u001b[31m---------------------------------------------------------------------------\u001b[39m",
      "\u001b[31mNameError\u001b[39m                                 Traceback (most recent call last)",
      "\u001b[36mCell\u001b[39m\u001b[36m \u001b[39m\u001b[32mIn[5]\u001b[39m\u001b[32m, line 1\u001b[39m\n\u001b[32m----> \u001b[39m\u001b[32m1\u001b[39m optimizer = \u001b[43mMarkowitzOptimizer\u001b[49m(returns=returns)\n\u001b[32m      2\u001b[39m frontier = optimizer.efficient_frontier()\n\u001b[32m      3\u001b[39m \u001b[38;5;66;03m#sharpes = optimizer.max_sharpe_ratio()\u001b[39;00m\n",
      "\u001b[31mNameError\u001b[39m: name 'MarkowitzOptimizer' is not defined"
     ]
    }
   ],
   "source": [
    "optimizer = MarkowitzOptimizer(returns=returns)\n",
    "frontier = optimizer.efficient_frontier()\n",
    "#sharpes = optimizer.max_sharpe_ratio()"
   ]
  },
  {
   "cell_type": "code",
   "execution_count": 6,
   "metadata": {},
   "outputs": [
    {
     "ename": "NameError",
     "evalue": "name 'Visualizer' is not defined",
     "output_type": "error",
     "traceback": [
      "\u001b[31m---------------------------------------------------------------------------\u001b[39m",
      "\u001b[31mNameError\u001b[39m                                 Traceback (most recent call last)",
      "\u001b[36mCell\u001b[39m\u001b[36m \u001b[39m\u001b[32mIn[6]\u001b[39m\u001b[32m, line 1\u001b[39m\n\u001b[32m----> \u001b[39m\u001b[32m1\u001b[39m viz = \u001b[43mVisualizer\u001b[49m(optimizer)\n\u001b[32m      3\u001b[39m \u001b[38;5;66;03m# Genera grafici\u001b[39;00m\n\u001b[32m      4\u001b[39m viz.plot_efficient_frontier(OUTPUT_DIR / \u001b[33m'\u001b[39m\u001b[33mfrontiera_notebook.png\u001b[39m\u001b[33m'\u001b[39m)\n",
      "\u001b[31mNameError\u001b[39m: name 'Visualizer' is not defined"
     ]
    }
   ],
   "source": [
    "viz = Visualizer(optimizer)\n",
    "\n",
    "# Genera grafici\n",
    "viz.plot_efficient_frontier(OUTPUT_DIR / 'frontiera_notebook.png')\n",
    "viz.plot_weights_distribution(\n",
    "    dict(zip(returns.columns, sharpe_portfolio['weights'])),\n",
    "    OUTPUT_DIR / 'allocazione_notebook.png'\n",
    ")\n",
    "\n",
    "# Mostra anteprima inline\n",
    "plt.figure(figsize=(12, 5))\n",
    "plt.subplot(121)\n",
    "viz.plot_efficient_frontier()\n",
    "plt.subplot(122)\n",
    "viz.plot_weights_distribution(dict(zip(returns.columns, sharpe_portfolio['weights'])))\n",
    "plt.tight_layout();"
   ]
  }
 ],
 "metadata": {
  "kernelspec": {
   "display_name": "venv",
   "language": "python",
   "name": "python3"
  },
  "language_info": {
   "codemirror_mode": {
    "name": "ipython",
    "version": 3
   },
   "file_extension": ".py",
   "mimetype": "text/x-python",
   "name": "python",
   "nbconvert_exporter": "python",
   "pygments_lexer": "ipython3",
   "version": "3.13.1"
  }
 },
 "nbformat": 4,
 "nbformat_minor": 2
}
